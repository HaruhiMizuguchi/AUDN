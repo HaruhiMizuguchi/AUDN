{
 "cells": [
  {
   "cell_type": "code",
   "execution_count": 9,
   "id": "758a7cfb-61fb-4fd2-9c24-1f5ea20024fd",
   "metadata": {},
   "outputs": [
    {
     "name": "stdout",
     "output_type": "stream",
     "text": [
      "torch.Size([15, 30])\n",
      "torch.Size([15, 30])\n",
      "方法1の損失値: 1.1496329307556152\n",
      "方法2の損失値: 1.1496330499649048\n",
      "同じ損失値か: True\n"
     ]
    }
   ],
   "source": [
    "import torch\n",
    "import torch.nn.functional as F\n",
    "import math\n",
    "\n",
    "# 初期設定\n",
    "torch.manual_seed(0)\n",
    "lt_features = torch.randn(10, 5)\n",
    "ut_features = torch.randn(15, 5)\n",
    "prototypes = torch.randn(20, 5)\n",
    "tau = 0.5\n",
    "\"\"\"\n",
    "# 最初の方法\n",
    "M = torch.cat([lt_features, prototypes], dim=0)\n",
    "L_nc = []\n",
    "for i in range(len(ut_features)):\n",
    "    Z = 0\n",
    "    L_nc_i = 0\n",
    "    for j in range(len(M)):\n",
    "        Z += math.exp(torch.dot(M[j], ut_features[i]) / tau)\n",
    "    for j in range(len(M)):\n",
    "        p_ij = math.exp(torch.dot(M[j], ut_features[i]) / tau) / Z\n",
    "        L_nc_i += -(p_ij) * math.log(p_ij)\n",
    "    L_nc.append(L_nc_i)\n",
    "selfsupervised_clustering_loss_1 = torch.mean(torch.tensor(L_nc))\n",
    "\"\"\"\n",
    "# 2つ目の方法\n",
    "M = torch.cat([lt_features, prototypes], dim=0)  # lt_features と prototypes を結合\n",
    "\n",
    "# ドット積を計算\n",
    "similarities = torch.mm(ut_features, M.T) / tau\n",
    "\n",
    "# softmax を適用して確率を計算\n",
    "p_ij = F.softmax(similarities, dim=1)\n",
    "\n",
    "# エントロピーを計算\n",
    "selfsupervised_clustering_loss_2 = -torch.mean(torch.sum(p_ij * torch.log(p_ij), dim=1))\n",
    "print(similarities.size())\n",
    "print(p_ij.size())\n",
    "# 結果を表示\n",
    "print(\"方法1の損失値:\", selfsupervised_clustering_loss_1.item())\n",
    "print(\"方法2の損失値:\", selfsupervised_clustering_loss_2.item())\n",
    "print(\"同じ損失値か:\", torch.isclose(selfsupervised_clustering_loss_1, selfsupervised_clustering_loss_2, atol=1e-6).item())"
   ]
  },
  {
   "cell_type": "code",
   "execution_count": 16,
   "id": "2216c2d2-c795-4773-8d69-7900c483d702",
   "metadata": {},
   "outputs": [
    {
     "name": "stdout",
     "output_type": "stream",
     "text": [
      "[False  True False  True]\n",
      "2\n"
     ]
    }
   ],
   "source": [
    "import numpy as np\n",
    "import matplotlib.pyplot as plt\n",
    "\n",
    "a = np.array([2,3,1,4])\n",
    "print((a>2).squeeze())\n",
    "print(np.sum(a>2))"
   ]
  },
  {
   "cell_type": "code",
   "execution_count": 11,
   "id": "4f9711b4-dba6-4e58-ac1c-f3398843388a",
   "metadata": {},
   "outputs": [
    {
     "name": "stdout",
     "output_type": "stream",
     "text": [
      "Collecting matplotlib\n",
      "  Downloading matplotlib-3.9.0-cp312-cp312-win_amd64.whl.metadata (11 kB)\n",
      "Collecting contourpy>=1.0.1 (from matplotlib)\n",
      "  Downloading contourpy-1.2.1-cp312-cp312-win_amd64.whl.metadata (5.8 kB)\n",
      "Collecting cycler>=0.10 (from matplotlib)\n",
      "  Using cached cycler-0.12.1-py3-none-any.whl.metadata (3.8 kB)\n",
      "Collecting fonttools>=4.22.0 (from matplotlib)\n",
      "  Downloading fonttools-4.53.0-cp312-cp312-win_amd64.whl.metadata (165 kB)\n",
      "     ---------------------------------------- 0.0/165.5 kB ? eta -:--:--\n",
      "     -------------------------------------  163.8/165.5 kB 3.3 MB/s eta 0:00:01\n",
      "     -------------------------------------- 165.5/165.5 kB 2.5 MB/s eta 0:00:00\n",
      "Collecting kiwisolver>=1.3.1 (from matplotlib)\n",
      "  Using cached kiwisolver-1.4.5-cp312-cp312-win_amd64.whl.metadata (6.5 kB)\n",
      "Requirement already satisfied: numpy>=1.23 in c:\\users\\1120h\\anaconda3\\envs\\audn\\lib\\site-packages (from matplotlib) (1.26.4)\n",
      "Requirement already satisfied: packaging>=20.0 in c:\\users\\1120h\\anaconda3\\envs\\audn\\lib\\site-packages (from matplotlib) (24.0)\n",
      "Requirement already satisfied: pillow>=8 in c:\\users\\1120h\\anaconda3\\envs\\audn\\lib\\site-packages (from matplotlib) (10.3.0)\n",
      "Collecting pyparsing>=2.3.1 (from matplotlib)\n",
      "  Using cached pyparsing-3.1.2-py3-none-any.whl.metadata (5.1 kB)\n",
      "Requirement already satisfied: python-dateutil>=2.7 in c:\\users\\1120h\\anaconda3\\envs\\audn\\lib\\site-packages (from matplotlib) (2.9.0)\n",
      "Requirement already satisfied: six>=1.5 in c:\\users\\1120h\\anaconda3\\envs\\audn\\lib\\site-packages (from python-dateutil>=2.7->matplotlib) (1.16.0)\n",
      "Downloading matplotlib-3.9.0-cp312-cp312-win_amd64.whl (8.0 MB)\n",
      "   ---------------------------------------- 0.0/8.0 MB ? eta -:--:--\n",
      "   - -------------------------------------- 0.4/8.0 MB 7.4 MB/s eta 0:00:02\n",
      "   --- ------------------------------------ 0.8/8.0 MB 8.1 MB/s eta 0:00:01\n",
      "   ----- ---------------------------------- 1.2/8.0 MB 8.1 MB/s eta 0:00:01\n",
      "   ------- -------------------------------- 1.5/8.0 MB 8.0 MB/s eta 0:00:01\n",
      "   --------- ------------------------------ 1.8/8.0 MB 7.8 MB/s eta 0:00:01\n",
      "   ---------- ----------------------------- 2.2/8.0 MB 7.7 MB/s eta 0:00:01\n",
      "   ------------ --------------------------- 2.5/8.0 MB 8.0 MB/s eta 0:00:01\n",
      "   -------------- ------------------------- 2.8/8.0 MB 7.9 MB/s eta 0:00:01\n",
      "   --------------- ------------------------ 3.2/8.0 MB 7.7 MB/s eta 0:00:01\n",
      "   ----------------- ---------------------- 3.4/8.0 MB 7.5 MB/s eta 0:00:01\n",
      "   ------------------ --------------------- 3.7/8.0 MB 7.3 MB/s eta 0:00:01\n",
      "   ------------------- -------------------- 3.9/8.0 MB 7.2 MB/s eta 0:00:01\n",
      "   --------------------- ------------------ 4.2/8.0 MB 7.1 MB/s eta 0:00:01\n",
      "   ---------------------- ----------------- 4.5/8.0 MB 6.9 MB/s eta 0:00:01\n",
      "   ----------------------- ---------------- 4.7/8.0 MB 6.9 MB/s eta 0:00:01\n",
      "   ------------------------- -------------- 5.0/8.0 MB 6.8 MB/s eta 0:00:01\n",
      "   ------------------------- -------------- 5.2/8.0 MB 6.6 MB/s eta 0:00:01\n",
      "   -------------------------- ------------- 5.3/8.0 MB 6.4 MB/s eta 0:00:01\n",
      "   --------------------------- ------------ 5.5/8.0 MB 6.2 MB/s eta 0:00:01\n",
      "   --------------------------- ------------ 5.6/8.0 MB 6.0 MB/s eta 0:00:01\n",
      "   ---------------------------- ----------- 5.6/8.0 MB 5.9 MB/s eta 0:00:01\n",
      "   ---------------------------- ----------- 5.7/8.0 MB 5.6 MB/s eta 0:00:01\n",
      "   ---------------------------- ----------- 5.8/8.0 MB 5.5 MB/s eta 0:00:01\n",
      "   ----------------------------- ---------- 5.8/8.0 MB 5.3 MB/s eta 0:00:01\n",
      "   ----------------------------- ---------- 5.9/8.0 MB 5.1 MB/s eta 0:00:01\n",
      "   ------------------------------ --------- 6.0/8.0 MB 5.1 MB/s eta 0:00:01\n",
      "   ------------------------------ --------- 6.1/8.0 MB 4.9 MB/s eta 0:00:01\n",
      "   ------------------------------- -------- 6.2/8.0 MB 4.8 MB/s eta 0:00:01\n",
      "   ------------------------------- -------- 6.3/8.0 MB 4.7 MB/s eta 0:00:01\n",
      "   -------------------------------- ------- 6.4/8.0 MB 4.7 MB/s eta 0:00:01\n",
      "   -------------------------------- ------- 6.5/8.0 MB 4.6 MB/s eta 0:00:01\n",
      "   --------------------------------- ------ 6.7/8.0 MB 4.5 MB/s eta 0:00:01\n",
      "   ---------------------------------- ----- 6.8/8.0 MB 4.5 MB/s eta 0:00:01\n",
      "   ---------------------------------- ----- 6.9/8.0 MB 4.4 MB/s eta 0:00:01\n",
      "   ----------------------------------- ---- 7.1/8.0 MB 4.4 MB/s eta 0:00:01\n",
      "   ------------------------------------ --- 7.2/8.0 MB 4.4 MB/s eta 0:00:01\n",
      "   ------------------------------------- -- 7.4/8.0 MB 4.3 MB/s eta 0:00:01\n",
      "   ------------------------------------- -- 7.5/8.0 MB 4.3 MB/s eta 0:00:01\n",
      "   -------------------------------------- - 7.7/8.0 MB 4.3 MB/s eta 0:00:01\n",
      "   ---------------------------------------  7.9/8.0 MB 4.3 MB/s eta 0:00:01\n",
      "   ---------------------------------------- 8.0/8.0 MB 4.2 MB/s eta 0:00:00\n",
      "Downloading contourpy-1.2.1-cp312-cp312-win_amd64.whl (189 kB)\n",
      "   ---------------------------------------- 0.0/189.9 kB ? eta -:--:--\n",
      "   ------------------------------------ --- 174.1/189.9 kB 3.5 MB/s eta 0:00:01\n",
      "   ---------------------------------------- 189.9/189.9 kB 3.8 MB/s eta 0:00:00\n",
      "Using cached cycler-0.12.1-py3-none-any.whl (8.3 kB)\n",
      "Downloading fonttools-4.53.0-cp312-cp312-win_amd64.whl (2.2 MB)\n",
      "   ---------------------------------------- 0.0/2.2 MB ? eta -:--:--\n",
      "   --- ------------------------------------ 0.2/2.2 MB 3.5 MB/s eta 0:00:01\n",
      "   ------ --------------------------------- 0.4/2.2 MB 3.8 MB/s eta 0:00:01\n",
      "   ---------- ----------------------------- 0.6/2.2 MB 4.0 MB/s eta 0:00:01\n",
      "   -------------- ------------------------- 0.8/2.2 MB 4.1 MB/s eta 0:00:01\n",
      "   ----------------- ---------------------- 1.0/2.2 MB 4.1 MB/s eta 0:00:01\n",
      "   --------------------- ------------------ 1.2/2.2 MB 4.2 MB/s eta 0:00:01\n",
      "   ------------------------- -------------- 1.4/2.2 MB 4.4 MB/s eta 0:00:01\n",
      "   ----------------------------- ---------- 1.6/2.2 MB 4.3 MB/s eta 0:00:01\n",
      "   --------------------------------- ------ 1.9/2.2 MB 4.6 MB/s eta 0:00:01\n",
      "   -------------------------------------- - 2.1/2.2 MB 4.6 MB/s eta 0:00:01\n",
      "   ---------------------------------------- 2.2/2.2 MB 4.5 MB/s eta 0:00:00\n",
      "Using cached kiwisolver-1.4.5-cp312-cp312-win_amd64.whl (56 kB)\n",
      "Using cached pyparsing-3.1.2-py3-none-any.whl (103 kB)\n",
      "Installing collected packages: pyparsing, kiwisolver, fonttools, cycler, contourpy, matplotlib\n",
      "Successfully installed contourpy-1.2.1 cycler-0.12.1 fonttools-4.53.0 kiwisolver-1.4.5 matplotlib-3.9.0 pyparsing-3.1.2\n"
     ]
    }
   ],
   "source": [
    "!pip install matplotlib"
   ]
  }
 ],
 "metadata": {
  "kernelspec": {
   "display_name": "Python 3 (ipykernel)",
   "language": "python",
   "name": "python3"
  },
  "language_info": {
   "codemirror_mode": {
    "name": "ipython",
    "version": 3
   },
   "file_extension": ".py",
   "mimetype": "text/x-python",
   "name": "python",
   "nbconvert_exporter": "python",
   "pygments_lexer": "ipython3",
   "version": "3.12.3"
  }
 },
 "nbformat": 4,
 "nbformat_minor": 5
}
