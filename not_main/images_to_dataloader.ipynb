{
 "cells": [
  {
   "cell_type": "code",
   "execution_count": null,
   "id": "641a4404-9eb3-469e-8ffa-0636aadfab93",
   "metadata": {
    "scrolled": true
   },
   "outputs": [],
   "source": [
    "!pip install pyyaml\n",
    "!pip install torch torchvision"
   ]
  },
  {
   "cell_type": "code",
   "execution_count": 2,
   "id": "0ae2a20d-0022-4d35-b34b-7b5045a536fc",
   "metadata": {},
   "outputs": [],
   "source": [
    "import yaml\n",
    "import torch\n",
    "from torch.utils.data import Dataset, DataLoader\n",
    "from torchvision import transforms\n",
    "from PIL import Image\n",
    "import os\n",
    "\n",
    "class DomainAdaptationDataset(Dataset):\n",
    "    def __init__(self, data_file, domain, label_range):\n",
    "        self.data = []\n",
    "        self.transform = transforms.Compose([\n",
    "            transforms.Resize((224, 224)),\n",
    "            transforms.ToTensor()\n",
    "        ])\n",
    "        with open(data_file, 'r') as f:\n",
    "            for line in f:\n",
    "                path, label = line.strip().split('\\t')\n",
    "                label = int(label)\n",
    "                if domain in path and label in label_range:\n",
    "                    self.data.append((path, label))\n",
    "\n",
    "    def __len__(self):\n",
    "        return len(self.data)\n",
    "\n",
    "    def __getitem__(self, idx):\n",
    "        path, label = self.data[idx]\n",
    "        image = Image.open(path).convert('RGB')\n",
    "        image = self.transform(image)\n",
    "        return image, label\n",
    "\n",
    "# YAMLファイルを読み込む関数\n",
    "def load_yaml(file_path):\n",
    "    with open(file_path, 'r') as file:\n",
    "        config = yaml.safe_load(file)\n",
    "    return config"
   ]
  },
  {
   "cell_type": "code",
   "execution_count": 12,
   "id": "62bd7951-b0a5-464f-b4f5-fead76518b4e",
   "metadata": {},
   "outputs": [
    {
     "data": {
      "text/plain": [
       "True"
      ]
     },
     "execution_count": 12,
     "metadata": {},
     "output_type": "execute_result"
    }
   ],
   "source": [
    "os.path.exists(\"config\")"
   ]
  },
  {
   "cell_type": "code",
   "execution_count": 20,
   "id": "e6d21a7c-dd18-4ecd-8f25-a4af2e17c1f9",
   "metadata": {},
   "outputs": [],
   "source": [
    "# YAMLファイルを読み込む\n",
    "config_path = 'config/office.yaml'\n",
    "config = load_yaml(config_path)\n",
    "\n",
    "# ソースドメインとターゲットドメインを取得\n",
    "source_domain = config['data']['dataset']['souce']\n",
    "target_domain = config['data']['dataset']['target']\n",
    "batch_size = config['data']['dataloader']['batch_size']\n",
    "\n",
    "# ラベルセットを定義\n",
    "n_source_private = config['data']['dataset']['n_source_private']\n",
    "n_share = config['data']['dataset']['n_share']\n",
    "n_target_private = config['data']['dataset']['n_target_private']\n",
    "\n",
    "source_private_labels = set(range(n_source_private))\n",
    "shared_labels = set(range(n_source_private, n_source_private + n_share))\n",
    "target_private_labels = set(range(n_source_private + n_share, n_source_private + n_share + n_target_private))"
   ]
  },
  {
   "cell_type": "code",
   "execution_count": 21,
   "id": "8a358d89-6bd9-465d-89a4-631958ac4069",
   "metadata": {},
   "outputs": [
    {
     "name": "stdout",
     "output_type": "stream",
     "text": [
      "torch.Size([36, 3, 224, 224]) torch.Size([36])\n",
      "torch.Size([36, 3, 224, 224]) torch.Size([36])\n"
     ]
    }
   ],
   "source": [
    "# データセットを作成\n",
    "source_dataset = DomainAdaptationDataset('data/office/images_and_labels.txt', source_domain, source_private_labels.union(shared_labels))\n",
    "target_dataset = DomainAdaptationDataset('data/office/images_and_labels.txt', target_domain, target_private_labels.union(shared_labels))\n",
    "\n",
    "# データを8:2の割合で訓練データとテストデータに分割\n",
    "target_train_size = int(0.8 * len(target_dataset))\n",
    "target_test_size = len(target_dataset) - target_train_size\n",
    "target_train_dataset, target_test_dataset = random_split(target_dataset, [target_train_size, target_test_size])\n",
    "\n",
    "# データローダを作成\n",
    "source_loader = DataLoader(source_dataset, batch_size=batch_size, shuffle=True)\n",
    "target_train_loader = DataLoader(target_train_dataset, batch_size=batch_size, shuffle=True)\n",
    "target_test_loader = DataLoader(target_test_dataset, batch_size=batch_size, shuffle=False)\n",
    "\n",
    "# データローダの動作確認\n",
    "# データローダの動作確認\n",
    "for images, labels in source_loader:\n",
    "    print(images.size(), labels.size())\n",
    "    break\n",
    "\n",
    "for images, labels in target_loader:\n",
    "    print(images.size(), labels.size())\n",
    "    break"
   ]
  },
  {
   "cell_type": "code",
   "execution_count": 42,
   "id": "9ccd83af-b72a-4753-8a6d-2e8d55d3a024",
   "metadata": {},
   "outputs": [
    {
     "data": {
      "text/plain": [
       "88272.703125"
      ]
     },
     "execution_count": 42,
     "metadata": {},
     "output_type": "execute_result"
    }
   ],
   "source": [
    "#source_dataset[0][0].size()\n",
    "source_dataset[0][0].sum().item()\n",
    "#(source_dataset[0][0]!= 1).sum().item()\n"
   ]
  }
 ],
 "metadata": {
  "kernelspec": {
   "display_name": "Python 3 (ipykernel)",
   "language": "python",
   "name": "python3"
  },
  "language_info": {
   "codemirror_mode": {
    "name": "ipython",
    "version": 3
   },
   "file_extension": ".py",
   "mimetype": "text/x-python",
   "name": "python",
   "nbconvert_exporter": "python",
   "pygments_lexer": "ipython3",
   "version": "3.12.3"
  }
 },
 "nbformat": 4,
 "nbformat_minor": 5
}
