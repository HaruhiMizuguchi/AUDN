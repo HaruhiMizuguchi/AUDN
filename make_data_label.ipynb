{
 "cells": [
  {
   "cell_type": "markdown",
   "id": "d2e2cf23-585f-4a1f-bd62-e44f3bfcd8a0",
   "metadata": {},
   "source": [
    "画像ファイルとラベルを1対1対応させるコード\n",
    "対応関係をテキストファイルに保存\n",
    "ラベルは0~nの自然数で表記"
   ]
  },
  {
   "cell_type": "code",
   "execution_count": 5,
   "id": "e4d76e2a-614c-489d-b1c0-0ffb87b037d9",
   "metadata": {},
   "outputs": [],
   "source": [
    "import os"
   ]
  },
  {
   "cell_type": "code",
   "execution_count": 27,
   "id": "5d888c93-7207-481a-a6c5-a1cb62254ddc",
   "metadata": {},
   "outputs": [],
   "source": [
    "def get_files_and_parent_directory(directory):\n",
    "    result = []\n",
    "    for root, dirs, files in os.walk(directory):\n",
    "        parent_directory = os.path.basename(root)\n",
    "        for file in files:\n",
    "            full_path = os.path.join(root, file)\n",
    "            result.append((full_path, parent_directory))\n",
    "    return result\n",
    "\n",
    "def save_to_text_file(data, output_file):\n",
    "    with open(output_file, 'w', encoding='utf-8') as f:\n",
    "        for full_path, parent in data:\n",
    "            f.write(f\"{full_path}\\t{folder_indices[parent]}\\n\")\n",
    "\n",
    "def get_folder_indices(directory):\n",
    "    folders = [name for name in os.listdir(directory) if os.path.isdir(os.path.join(directory, name))]\n",
    "    folder_indices = {folder: index for index, folder in enumerate(folders)}\n",
    "    return folder_indices\n",
    "\n",
    "def save_folder_indices_to_text_file(folder_indices, output_file):\n",
    "    with open(output_file, 'w', encoding='utf-8') as f:\n",
    "        for folder, index in folder_indices.items():\n",
    "            folder_path = os.path.join(directory_path, folder)\n",
    "            f.write(f\"{folder}\\t{index}\\n\")"
   ]
  },
  {
   "cell_type": "code",
   "execution_count": 17,
   "id": "58073d31-2a8c-409a-aad2-cc7a43cfabd6",
   "metadata": {
    "scrolled": true
   },
   "outputs": [],
   "source": [
    "# 使用例\n",
    "directory_path = 'data/office/domain_adaptation_images/amazon/images'  # ここに対象ディレクトリのパスを指定\n",
    "folder_indices = get_folder_indices(directory_path)"
   ]
  },
  {
   "cell_type": "code",
   "execution_count": 26,
   "id": "924f665e-a221-4343-beea-6ab0e5fccff4",
   "metadata": {},
   "outputs": [
    {
     "name": "stdout",
     "output_type": "stream",
     "text": [
      "Data has been saved to files_and_parents.txt\n"
     ]
    }
   ],
   "source": [
    "# 使用例\n",
    "directory_path = 'data/office/domain_adaptation_images'  # ここに対象ディレクトリのパスを指定\n",
    "output_file = 'files_and_parents.txt'\n",
    "files_and_parents = get_files_and_parent_directory(directory_path)\n",
    "save_to_text_file(files_and_parents, output_file)\n",
    "\n",
    "print(f\"Data has been saved to {output_file}\")"
   ]
  },
  {
   "cell_type": "code",
   "execution_count": 28,
   "id": "fe6a8196-2f34-47e8-ad04-a06fab9c319c",
   "metadata": {},
   "outputs": [
    {
     "name": "stdout",
     "output_type": "stream",
     "text": [
      "Folder indices have been saved to labels_and_indices.txt\n"
     ]
    }
   ],
   "source": [
    "directory_path = 'data/office/domain_adaptation_images/amazon/images'  # ここに対象ディレクトリのパスを指定\n",
    "output_file = 'labels_and_indices.txt'  # 出力ファイル名\n",
    "\n",
    "folder_indices = get_folder_indices(directory_path)\n",
    "save_folder_indices_to_text_file(folder_indices, output_file)\n",
    "\n",
    "print(f\"Folder indices have been saved to {output_file}\")"
   ]
  }
 ],
 "metadata": {
  "kernelspec": {
   "display_name": "Python 3 (ipykernel)",
   "language": "python",
   "name": "python3"
  },
  "language_info": {
   "codemirror_mode": {
    "name": "ipython",
    "version": 3
   },
   "file_extension": ".py",
   "mimetype": "text/x-python",
   "name": "python",
   "nbconvert_exporter": "python",
   "pygments_lexer": "ipython3",
   "version": "3.12.3"
  }
 },
 "nbformat": 4,
 "nbformat_minor": 5
}
